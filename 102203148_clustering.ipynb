{
  "cells": [
    {
      "cell_type": "code",
      "execution_count": 7,
      "metadata": {
        "id": "KG_FpFNY18TI"
      },
      "outputs": [],
      "source": [
        "import numpy as np\n",
        "import pandas as pd\n",
        "import matplotlib.pyplot as plt\n",
        "from sklearn.datasets import load_iris\n",
        "from sklearn.preprocessing import StandardScaler\n",
        "from sklearn.decomposition import PCA\n",
        "from sklearn.cluster import KMeans, MeanShift, estimate_bandwidth\n",
        "from sklearn.metrics import silhouette_score, calinski_harabasz_score, davies_bouldin_score\n",
        "from scipy.cluster.hierarchy import linkage, fcluster, dendrogram\n"
      ]
    },
    {
      "cell_type": "code",
      "execution_count": 8,
      "metadata": {
        "id": "leUGKToy2A9i"
      },
      "outputs": [],
      "source": [
        "\n",
        "iris = load_iris()\n",
        "X_original = iris.data\n",
        "y_true = iris.target\n",
        "\n",
        "\n",
        "scaler = StandardScaler()\n",
        "X_scaled = scaler.fit_transform(X_original)\n",
        "X_pca_only = PCA(n_components=2).fit_transform(X_original)\n",
        "X_scaled_pca = PCA(n_components=2).fit_transform(X_scaled)\n",
        "\n",
        "\n",
        "datasets = [\n",
        "    (\"Original\", X_original),\n",
        "    (\"Normalized\", X_scaled),\n",
        "    (\"PCA\", X_pca_only),\n",
        "    (\"Normalized + PCA\", X_scaled_pca)\n",
        "]\n"
      ]
    },
    {
      "cell_type": "code",
      "execution_count": 9,
      "metadata": {
        "id": "Q3unUiLl2EMp"
      },
      "outputs": [],
      "source": [
        "def get_clustering_scores(X, labels):\n",
        "    return (\n",
        "        silhouette_score(X, labels),\n",
        "        calinski_harabasz_score(X, labels),\n",
        "        davies_bouldin_score(X, labels)\n",
        "    )\n"
      ]
    },
    {
      "cell_type": "code",
      "execution_count": 10,
      "metadata": {
        "id": "UG08rgNN2QB7"
      },
      "outputs": [],
      "source": [
        "evaluation_metrics = {\n",
        "    \"Algorithm\": [],\n",
        "    \"Preprocessing\": [],\n",
        "    \"Clusters\": [],\n",
        "    \"Silhouette Score\": [],\n",
        "    \"Calinski-Harabasz\": [],\n",
        "    \"Davies-Bouldin\": []\n",
        "}\n"
      ]
    },
    {
      "cell_type": "code",
      "execution_count": 11,
      "metadata": {
        "id": "xD-bfA8p2TQ8"
      },
      "outputs": [],
      "source": [
        "for label, data in datasets:\n",
        "    for k in [3, 4, 5]:\n",
        "        model = KMeans(n_clusters=k, random_state=42).fit(data)\n",
        "        sil, cal, db = get_clustering_scores(data, model.labels_)\n",
        "\n",
        "        evaluation_metrics[\"Algorithm\"].append(\"K-Means\")\n",
        "        evaluation_metrics[\"Preprocessing\"].append(label)\n",
        "        evaluation_metrics[\"Clusters\"].append(k)\n",
        "        evaluation_metrics[\"Silhouette Score\"].append(sil)\n",
        "        evaluation_metrics[\"Calinski-Harabasz\"].append(cal)\n",
        "        evaluation_metrics[\"Davies-Bouldin\"].append(db)\n"
      ]
    },
    {
      "cell_type": "code",
      "execution_count": 12,
      "metadata": {
        "id": "xZ0aRhkC2Y5p"
      },
      "outputs": [],
      "source": [
        "for label, data in datasets:\n",
        "    linkage_mat = linkage(data, method=\"ward\")\n",
        "    for k in [3, 4, 5]:\n",
        "        cluster_labels = fcluster(linkage_mat, t=k, criterion='maxclust')\n",
        "        sil, cal, db = get_clustering_scores(data, cluster_labels)\n",
        "\n",
        "        evaluation_metrics[\"Algorithm\"].append(\"Hierarchical\")\n",
        "        evaluation_metrics[\"Preprocessing\"].append(label)\n",
        "        evaluation_metrics[\"Clusters\"].append(k)\n",
        "        evaluation_metrics[\"Silhouette Score\"].append(sil)\n",
        "        evaluation_metrics[\"Calinski-Harabasz\"].append(cal)\n",
        "        evaluation_metrics[\"Davies-Bouldin\"].append(db)\n"
      ]
    },
    {
      "cell_type": "code",
      "execution_count": 13,
      "metadata": {
        "id": "9Vl-6-4o2b9f"
      },
      "outputs": [],
      "source": [
        "for label, data in datasets:\n",
        "    bandwidth = estimate_bandwidth(data, quantile=0.2)\n",
        "    meanshift_model = MeanShift(bandwidth=bandwidth).fit(data)\n",
        "    cluster_labels = meanshift_model.labels_\n",
        "\n",
        "    sil, cal, db = get_clustering_scores(data, cluster_labels)\n",
        "\n",
        "    evaluation_metrics[\"Algorithm\"].append(\"Mean-Shift\")\n",
        "    evaluation_metrics[\"Preprocessing\"].append(label)\n",
        "    evaluation_metrics[\"Clusters\"].append(len(np.unique(cluster_labels)))\n",
        "    evaluation_metrics[\"Silhouette Score\"].append(sil)\n",
        "    evaluation_metrics[\"Calinski-Harabasz\"].append(cal)\n",
        "    evaluation_metrics[\"Davies-Bouldin\"].append(db)\n"
      ]
    },
    {
      "cell_type": "code",
      "execution_count": null,
      "metadata": {
        "colab": {
          "base_uri": "https://localhost:8080/"
        },
        "id": "FzgugVQR2iI5",
        "outputId": "6a253614-ba9e-4b67-9c74-35c06bb2abeb"
      },
      "outputs": [
        {
          "name": "stdout",
          "output_type": "stream",
          "text": [
            "       Algorithm     Preprocessing  Clusters  Silhouette Score  \\\n",
            "0        K-Means          Original         3          0.551192   \n",
            "1        K-Means          Original         4          0.497643   \n",
            "2        K-Means          Original         5          0.493080   \n",
            "3        K-Means        Normalized         3          0.479881   \n",
            "4        K-Means        Normalized         4          0.385045   \n",
            "5        K-Means        Normalized         5          0.345033   \n",
            "6        K-Means               PCA         3          0.597676   \n",
            "7        K-Means               PCA         4          0.557741   \n",
            "8        K-Means               PCA         5          0.510041   \n",
            "9        K-Means  Normalized + PCA         3          0.522791   \n",
            "10       K-Means  Normalized + PCA         4          0.445187   \n",
            "11       K-Means  Normalized + PCA         5          0.411085   \n",
            "12  Hierarchical          Original         3          0.554324   \n",
            "13  Hierarchical          Original         4          0.488967   \n",
            "14  Hierarchical          Original         5          0.484383   \n",
            "15  Hierarchical        Normalized         3          0.446689   \n",
            "16  Hierarchical        Normalized         4          0.400636   \n",
            "17  Hierarchical        Normalized         5          0.330587   \n",
            "18  Hierarchical               PCA         3          0.598475   \n",
            "19  Hierarchical               PCA         4          0.540977   \n",
            "20  Hierarchical               PCA         5          0.548784   \n",
            "21  Hierarchical  Normalized + PCA         3          0.511060   \n",
            "22  Hierarchical  Normalized + PCA         4          0.448735   \n",
            "23  Hierarchical  Normalized + PCA         5          0.404169   \n",
            "24    Mean-Shift          Original         2          0.685788   \n",
            "25    Mean-Shift        Normalized         4          0.358474   \n",
            "26    Mean-Shift               PCA         3          0.562392   \n",
            "27    Mean-Shift  Normalized + PCA         4          0.403768   \n",
            "\n",
            "    Calinski-Harabasz  Davies-Bouldin  \n",
            "0          561.593732        0.666039  \n",
            "1          529.529095        0.754140  \n",
            "2          495.243414        0.819384  \n",
            "3          157.360153        0.789363  \n",
            "4          206.680603        0.869779  \n",
            "5          202.635850        0.943894  \n",
            "6          693.708433        0.564816  \n",
            "7          719.123544        0.615069  \n",
            "8          642.060666        0.752500  \n",
            "9          180.975460        0.739126  \n",
            "10         263.884045        0.744669  \n",
            "11         278.451395        0.780293  \n",
            "12         558.058041        0.656256  \n",
            "13         515.078906        0.795264  \n",
            "14         488.484904        0.820417  \n",
            "15         222.719164        0.803467  \n",
            "16         201.251454        0.978821  \n",
            "17         192.681283        0.974249  \n",
            "18         688.617548        0.560496  \n",
            "19         673.946264        0.654624  \n",
            "20         665.883112        0.652573  \n",
            "21         286.328664        0.705430  \n",
            "22         254.090094        0.722612  \n",
            "23         254.996196        0.791250  \n",
            "24         509.703427        0.388552  \n",
            "25         133.420160        0.775938  \n",
            "26         614.800564        0.557915  \n",
            "27         152.613788        0.596365  \n"
          ]
        }
      ],
      "source": [
        "\n",
        "results_df = pd.DataFrame(evaluation_metrics)\n",
        "results_df.to_csv(\"clustering_results.csv\", index=False)\n",
        "\n",
        "\n",
        "print(results_df)\n"
      ]
    },
    {
      "cell_type": "code",
      "execution_count": 16,
      "metadata": {
        "colab": {
          "base_uri": "https://localhost:8080/",
          "height": 707
        },
        "id": "pjSegbbG2mUs",
        "outputId": "e7101fa5-17a0-4f04-89a8-6ac78326e223"
      },
      "outputs": [
        {
          "data": {
            "image/png": "[encoded data removed]",
            "text/plain": [
              "<Figure size 1000x700 with 1 Axes>"
            ]
          },
          "metadata": {},
          "output_type": "display_data"
        }
      ],
      "source": [
        "\n",
        "import scipy.cluster.hierarchy as sch\n",
        "import matplotlib.pyplot as plt\n",
        "\n",
        "def color_func(link_id):\n",
        "    \"\"\"Assign a specific color to each cluster branch.\"\"\"\n",
        "    return ['red', 'green', 'blue', 'purple'][link_id % 4]\n",
        "\n",
        "\n",
        "linkage_matrix = sch.linkage(X_original, method='ward')\n",
        "\n",
        "\n",
        "plt.figure(figsize=(10, 7))\n",
        "plt.title(\"Hierarchical Clustering Dendrogram\")\n",
        "sch.dendrogram(\n",
        "    linkage_matrix,\n",
        "    link_color_func=color_func,\n",
        "    above_threshold_color='black',\n",
        "    color_threshold=5\n",
        ")\n",
        "plt.xlabel(\"Samples\")\n",
        "plt.ylabel(\"Distance\")\n",
        "plt.tight_layout()\n",
        "plt.show()\n",
        "\n"
      ]
    }
  ],
  "metadata": {
    "colab": {
      "provenance": []
    },
    "kernelspec": {
      "display_name": "Python 3",
      "name": "python3"
    },
    "language_info": {
      "name": "python"
    }
  },
  "nbformat": 4,
  "nbformat_minor": 0
}
